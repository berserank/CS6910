{
 "cells": [
  {
   "cell_type": "code",
   "execution_count": null,
   "id": "b4e9c370",
   "metadata": {},
   "outputs": [],
   "source": [
    "import numpy as np\n",
    "import scipy as sp\n",
    "import wandb\n",
    "import time\n",
    "import matplotlib.pyplot as plt\n",
    "from keras.datasets import fashion_mnist\n",
    "\n",
    "import activation"
   ]
  },
  {
   "cell_type": "code",
   "execution_count": null,
   "id": "78ec1c9d",
   "metadata": {},
   "outputs": [],
   "source": [
    "def initialize_parameters(n, input_size, output_size):\n",
    "    parameters = {}\n",
    "    parameters['W'+str(1)] = np.random.randn(n[0],input_size)\n",
    "    parameters['b'+str(1)] = np.random.randn(n[0],1)\n",
    "    for i in range(1,len(n)):\n",
    "        parameters['W'+str(i+1)] = np.random.randn(n[i],n[i-1])\n",
    "        parameters['b'+str(i+1)] = np.random.randn(n[i],1)\n",
    "    parameters['W'+str(len(n)+1)] = np.random.randn(output_size,n[-1])\n",
    "    parameters['b'+str(len(n)+1)] = np.random.randn(output_size,1)\n",
    "    return parameters\n",
    "\n",
    "print(initialize_parameters([1,2,3], 2, 2))\n",
    "    "
   ]
  },
  {
   "cell_type": "code",
   "execution_count": null,
   "id": "e8ce5bd0",
   "metadata": {},
   "outputs": [],
   "source": []
  }
 ],
 "metadata": {
  "kernelspec": {
   "display_name": "Python 3 (ipykernel)",
   "language": "python",
   "name": "python3"
  },
  "language_info": {
   "codemirror_mode": {
    "name": "ipython",
    "version": 3
   },
   "file_extension": ".py",
   "mimetype": "text/x-python",
   "name": "python",
   "nbconvert_exporter": "python",
   "pygments_lexer": "ipython3",
   "version": "3.9.13"
  }
 },
 "nbformat": 4,
 "nbformat_minor": 5
}
